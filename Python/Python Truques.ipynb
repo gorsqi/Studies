{
 "cells": [
  {
   "cell_type": "markdown",
   "metadata": {},
   "source": [
    "### Gerador de números da mega"
   ]
  },
  {
   "cell_type": "code",
   "execution_count": 1,
   "metadata": {},
   "outputs": [
    {
     "data": {
      "text/plain": [
       "[2, 30, 16, 14, 3, 57]"
      ]
     },
     "execution_count": 1,
     "metadata": {},
     "output_type": "execute_result"
    }
   ],
   "source": [
    "from random import choices\n",
    "\n",
    "choices(list(range(1, 61)), k = 6)"
   ]
  },
  {
   "cell_type": "markdown",
   "metadata": {},
   "source": [
    "### Contagem de caracteres"
   ]
  },
  {
   "cell_type": "code",
   "execution_count": 2,
   "metadata": {},
   "outputs": [
    {
     "name": "stdout",
     "output_type": "stream",
     "text": [
      "{'🤓': 2, '🌺': 1, '🆘': 2, '✅': 1}\n"
     ]
    }
   ],
   "source": [
    "def conta_caracter(x):\n",
    "    resultado = {}\n",
    "    for caracter in x:\n",
    "        resultado[caracter] = resultado.get(caracter, 0) + 1\n",
    "        \n",
    "    return resultado\n",
    "\n",
    "# Testar\n",
    "print(conta_caracter('🤓🌺🆘✅🤓🆘'))"
   ]
  },
  {
   "cell_type": "markdown",
   "metadata": {},
   "source": [
    "### Função de 1 linha"
   ]
  },
  {
   "cell_type": "code",
   "execution_count": 3,
   "metadata": {},
   "outputs": [
    {
     "name": "stdout",
     "output_type": "stream",
     "text": [
      "[0, 1, 1, 1, 0, 1]\n"
     ]
    }
   ],
   "source": [
    "lista = ['a', 'b', 'b', 'c', 'a', 'b']\n",
    "\n",
    "# O intuito é colocar 0 onde tem a e 1 onde for diferente de a.\n",
    "transform = lambda x: 0 if x == 'a' else 1\n",
    "\n",
    "# Isso é uma função Jão\n",
    "type(transform)\n",
    "\n",
    "lista_transformada = list(map(transform, lista))\n",
    "\n",
    "# Testar\n",
    "print(lista_transformada)"
   ]
  },
  {
   "cell_type": "markdown",
   "metadata": {},
   "source": [
    "### Else no looooppppp"
   ]
  },
  {
   "cell_type": "code",
   "execution_count": 4,
   "metadata": {},
   "outputs": [
    {
     "name": "stdout",
     "output_type": "stream",
     "text": [
      "🆘❤️\n",
      "🆘🧡\n",
      "🆘💛\n",
      "🆘💚\n",
      "🆘💙\n",
      "🆘💜\n",
      "🆘🖤\n",
      "🆘💔\n",
      "🔞\n"
     ]
    }
   ],
   "source": [
    "lista = ['❤️', '🧡', '💛', '💚', '💙', '💜', '🖤', '💔']\n",
    "\n",
    "for x in lista:\n",
    "    print('🆘' + x)\n",
    "else:\n",
    "    print('🔞')"
   ]
  },
  {
   "cell_type": "markdown",
   "metadata": {},
   "source": [
    "### Retirando caracteres de uma string com 1 linha"
   ]
  },
  {
   "cell_type": "code",
   "execution_count": 5,
   "metadata": {},
   "outputs": [
    {
     "name": "stdout",
     "output_type": "stream",
     "text": [
      "Oi Você  BigHero\n"
     ]
    }
   ],
   "source": [
    "tralala = 'Oi🤓 Você 👀 BigHero❓'\n",
    "\n",
    "kd_a_emocao = ''.join(char for char in tralala if char not in ['🤓', '👀', '❓'])\n",
    "\n",
    "# Testar\n",
    "print(kd_a_emocao)"
   ]
  },
  {
   "cell_type": "markdown",
   "metadata": {},
   "source": [
    "### List Comprehension"
   ]
  },
  {
   "cell_type": "code",
   "execution_count": 6,
   "metadata": {},
   "outputs": [
    {
     "name": "stdout",
     "output_type": "stream",
     "text": [
      "['1', '2', '3', '4', '5', '6', '7']\n"
     ]
    }
   ],
   "source": [
    "# Transforma os dados de uma lista em string\n",
    "lista_int = [1, 2, 3, 4, 5, 6, 7]\n",
    "\n",
    "lista_str = [str(x) for x in lista_int]\n",
    "\n",
    "# Testar\n",
    "print(lista_str)"
   ]
  }
 ],
 "metadata": {
  "kernelspec": {
   "display_name": "Python 3",
   "language": "python",
   "name": "python3"
  },
  "language_info": {
   "codemirror_mode": {
    "name": "ipython",
    "version": 3
   },
   "file_extension": ".py",
   "mimetype": "text/x-python",
   "name": "python",
   "nbconvert_exporter": "python",
   "pygments_lexer": "ipython3",
   "version": "3.6.8"
  },
  "latex_envs": {
   "LaTeX_envs_menu_present": true,
   "autoclose": false,
   "autocomplete": true,
   "bibliofile": "biblio.bib",
   "cite_by": "apalike",
   "current_citInitial": 1,
   "eqLabelWithNumbers": true,
   "eqNumInitial": 1,
   "hotkeys": {
    "equation": "Ctrl-E",
    "itemize": "Ctrl-I"
   },
   "labels_anchors": false,
   "latex_user_defs": false,
   "report_style_numbering": false,
   "user_envs_cfg": false
  }
 },
 "nbformat": 4,
 "nbformat_minor": 2
}
