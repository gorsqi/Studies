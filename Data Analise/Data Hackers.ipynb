{
 "cells": [
  {
   "cell_type": "markdown",
   "metadata": {},
   "source": [
    "## Iniciando com Pandas\n",
    "[Fonte](https://medium.com/data-hackers/uma-introdu%C3%A7%C3%A3o-simples-ao-pandas-1e15eea37fa1)"
   ]
  },
  {
   "cell_type": "code",
   "execution_count": 2,
   "metadata": {},
   "outputs": [],
   "source": [
    "import pandas as pd\n",
    "import numpy as np\n",
    "import matplotlib.pyplot as plt\n",
    "\n",
    "%matplotlib inline"
   ]
  },
  {
   "cell_type": "code",
   "execution_count": 6,
   "metadata": {},
   "outputs": [
    {
     "data": {
      "text/html": [
       "<div>\n",
       "<style scoped>\n",
       "    .dataframe tbody tr th:only-of-type {\n",
       "        vertical-align: middle;\n",
       "    }\n",
       "\n",
       "    .dataframe tbody tr th {\n",
       "        vertical-align: top;\n",
       "    }\n",
       "\n",
       "    .dataframe thead th {\n",
       "        text-align: right;\n",
       "    }\n",
       "</style>\n",
       "<table border=\"1\" class=\"dataframe\">\n",
       "  <thead>\n",
       "    <tr style=\"text-align: right;\">\n",
       "      <th></th>\n",
       "      <th>Aluno</th>\n",
       "      <th>Faltas</th>\n",
       "      <th>Prova</th>\n",
       "      <th>Seminário</th>\n",
       "    </tr>\n",
       "  </thead>\n",
       "  <tbody>\n",
       "    <tr>\n",
       "      <th>0</th>\n",
       "      <td>Wilfred</td>\n",
       "      <td>3</td>\n",
       "      <td>2</td>\n",
       "      <td>8.5</td>\n",
       "    </tr>\n",
       "    <tr>\n",
       "      <th>1</th>\n",
       "      <td>Abbie</td>\n",
       "      <td>4</td>\n",
       "      <td>7</td>\n",
       "      <td>7.5</td>\n",
       "    </tr>\n",
       "    <tr>\n",
       "      <th>2</th>\n",
       "      <td>Harry</td>\n",
       "      <td>2</td>\n",
       "      <td>5</td>\n",
       "      <td>9.0</td>\n",
       "    </tr>\n",
       "    <tr>\n",
       "      <th>3</th>\n",
       "      <td>Julia</td>\n",
       "      <td>1</td>\n",
       "      <td>10</td>\n",
       "      <td>7.5</td>\n",
       "    </tr>\n",
       "    <tr>\n",
       "      <th>4</th>\n",
       "      <td>Carrie</td>\n",
       "      <td>4</td>\n",
       "      <td>6</td>\n",
       "      <td>8.0</td>\n",
       "    </tr>\n",
       "  </tbody>\n",
       "</table>\n",
       "</div>"
      ],
      "text/plain": [
       "     Aluno  Faltas  Prova  Seminário\n",
       "0  Wilfred       3      2        8.5\n",
       "1    Abbie       4      7        7.5\n",
       "2    Harry       2      5        9.0\n",
       "3    Julia       1     10        7.5\n",
       "4   Carrie       4      6        8.0"
      ]
     },
     "execution_count": 6,
     "metadata": {},
     "output_type": "execute_result"
    }
   ],
   "source": [
    "df = pd.DataFrame({'Aluno'    : [\"Wilfred\", \"Abbie\", \"Harry\", \"Julia\", \"Carrie\"],\n",
    "                   'Faltas'   : [3,4,2,1,4],\n",
    "                   'Prova'    : [2,7,5,10,6],\n",
    "                   'Seminário': [8.5,7.5,9.0,7.5,8.0]})\n",
    "df"
   ]
  },
  {
   "cell_type": "code",
   "execution_count": 7,
   "metadata": {},
   "outputs": [
    {
     "data": {
      "text/plain": [
       "Aluno         object\n",
       "Faltas         int64\n",
       "Prova          int64\n",
       "Seminário    float64\n",
       "dtype: object"
      ]
     },
     "execution_count": 7,
     "metadata": {},
     "output_type": "execute_result"
    }
   ],
   "source": [
    "# Visualizar os tipos\n",
    "df.dtypes"
   ]
  },
  {
   "cell_type": "code",
   "execution_count": 8,
   "metadata": {},
   "outputs": [
    {
     "data": {
      "text/plain": [
       "Index(['Aluno', 'Faltas', 'Prova', 'Seminário'], dtype='object')"
      ]
     },
     "execution_count": 8,
     "metadata": {},
     "output_type": "execute_result"
    }
   ],
   "source": [
    "# Visualizando as colunas.\n",
    "df.columns"
   ]
  },
  {
   "cell_type": "code",
   "execution_count": 9,
   "metadata": {},
   "outputs": [
    {
     "data": {
      "text/plain": [
       "0    8.5\n",
       "1    7.5\n",
       "2    9.0\n",
       "3    7.5\n",
       "4    8.0\n",
       "Name: Seminário, dtype: float64"
      ]
     },
     "execution_count": 9,
     "metadata": {},
     "output_type": "execute_result"
    }
   ],
   "source": [
    "# Acessando a coluna pelo nome.\n",
    "df[\"Seminário\"]"
   ]
  },
  {
   "cell_type": "code",
   "execution_count": 10,
   "metadata": {},
   "outputs": [
    {
     "data": {
      "text/html": [
       "<div>\n",
       "<style scoped>\n",
       "    .dataframe tbody tr th:only-of-type {\n",
       "        vertical-align: middle;\n",
       "    }\n",
       "\n",
       "    .dataframe tbody tr th {\n",
       "        vertical-align: top;\n",
       "    }\n",
       "\n",
       "    .dataframe thead th {\n",
       "        text-align: right;\n",
       "    }\n",
       "</style>\n",
       "<table border=\"1\" class=\"dataframe\">\n",
       "  <thead>\n",
       "    <tr style=\"text-align: right;\">\n",
       "      <th></th>\n",
       "      <th>Faltas</th>\n",
       "      <th>Prova</th>\n",
       "      <th>Seminário</th>\n",
       "    </tr>\n",
       "  </thead>\n",
       "  <tbody>\n",
       "    <tr>\n",
       "      <th>count</th>\n",
       "      <td>5.00000</td>\n",
       "      <td>5.000000</td>\n",
       "      <td>5.00000</td>\n",
       "    </tr>\n",
       "    <tr>\n",
       "      <th>mean</th>\n",
       "      <td>2.80000</td>\n",
       "      <td>6.000000</td>\n",
       "      <td>8.10000</td>\n",
       "    </tr>\n",
       "    <tr>\n",
       "      <th>std</th>\n",
       "      <td>1.30384</td>\n",
       "      <td>2.915476</td>\n",
       "      <td>0.65192</td>\n",
       "    </tr>\n",
       "    <tr>\n",
       "      <th>min</th>\n",
       "      <td>1.00000</td>\n",
       "      <td>2.000000</td>\n",
       "      <td>7.50000</td>\n",
       "    </tr>\n",
       "    <tr>\n",
       "      <th>25%</th>\n",
       "      <td>2.00000</td>\n",
       "      <td>5.000000</td>\n",
       "      <td>7.50000</td>\n",
       "    </tr>\n",
       "    <tr>\n",
       "      <th>50%</th>\n",
       "      <td>3.00000</td>\n",
       "      <td>6.000000</td>\n",
       "      <td>8.00000</td>\n",
       "    </tr>\n",
       "    <tr>\n",
       "      <th>75%</th>\n",
       "      <td>4.00000</td>\n",
       "      <td>7.000000</td>\n",
       "      <td>8.50000</td>\n",
       "    </tr>\n",
       "    <tr>\n",
       "      <th>max</th>\n",
       "      <td>4.00000</td>\n",
       "      <td>10.000000</td>\n",
       "      <td>9.00000</td>\n",
       "    </tr>\n",
       "  </tbody>\n",
       "</table>\n",
       "</div>"
      ],
      "text/plain": [
       "        Faltas      Prova  Seminário\n",
       "count  5.00000   5.000000    5.00000\n",
       "mean   2.80000   6.000000    8.10000\n",
       "std    1.30384   2.915476    0.65192\n",
       "min    1.00000   2.000000    7.50000\n",
       "25%    2.00000   5.000000    7.50000\n",
       "50%    3.00000   6.000000    8.00000\n",
       "75%    4.00000   7.000000    8.50000\n",
       "max    4.00000  10.000000    9.00000"
      ]
     },
     "execution_count": 10,
     "metadata": {},
     "output_type": "execute_result"
    }
   ],
   "source": [
    "# Breve resumo dos dados.\n",
    "df.describe()"
   ]
  },
  {
   "cell_type": "code",
   "execution_count": 11,
   "metadata": {},
   "outputs": [
    {
     "data": {
      "text/html": [
       "<div>\n",
       "<style scoped>\n",
       "    .dataframe tbody tr th:only-of-type {\n",
       "        vertical-align: middle;\n",
       "    }\n",
       "\n",
       "    .dataframe tbody tr th {\n",
       "        vertical-align: top;\n",
       "    }\n",
       "\n",
       "    .dataframe thead th {\n",
       "        text-align: right;\n",
       "    }\n",
       "</style>\n",
       "<table border=\"1\" class=\"dataframe\">\n",
       "  <thead>\n",
       "    <tr style=\"text-align: right;\">\n",
       "      <th></th>\n",
       "      <th>Aluno</th>\n",
       "      <th>Faltas</th>\n",
       "      <th>Prova</th>\n",
       "      <th>Seminário</th>\n",
       "    </tr>\n",
       "  </thead>\n",
       "  <tbody>\n",
       "    <tr>\n",
       "      <th>1</th>\n",
       "      <td>Abbie</td>\n",
       "      <td>4</td>\n",
       "      <td>7</td>\n",
       "      <td>7.5</td>\n",
       "    </tr>\n",
       "    <tr>\n",
       "      <th>3</th>\n",
       "      <td>Julia</td>\n",
       "      <td>1</td>\n",
       "      <td>10</td>\n",
       "      <td>7.5</td>\n",
       "    </tr>\n",
       "    <tr>\n",
       "      <th>4</th>\n",
       "      <td>Carrie</td>\n",
       "      <td>4</td>\n",
       "      <td>6</td>\n",
       "      <td>8.0</td>\n",
       "    </tr>\n",
       "    <tr>\n",
       "      <th>0</th>\n",
       "      <td>Wilfred</td>\n",
       "      <td>3</td>\n",
       "      <td>2</td>\n",
       "      <td>8.5</td>\n",
       "    </tr>\n",
       "    <tr>\n",
       "      <th>2</th>\n",
       "      <td>Harry</td>\n",
       "      <td>2</td>\n",
       "      <td>5</td>\n",
       "      <td>9.0</td>\n",
       "    </tr>\n",
       "  </tbody>\n",
       "</table>\n",
       "</div>"
      ],
      "text/plain": [
       "     Aluno  Faltas  Prova  Seminário\n",
       "1    Abbie       4      7        7.5\n",
       "3    Julia       1     10        7.5\n",
       "4   Carrie       4      6        8.0\n",
       "0  Wilfred       3      2        8.5\n",
       "2    Harry       2      5        9.0"
      ]
     },
     "execution_count": 11,
     "metadata": {},
     "output_type": "execute_result"
    }
   ],
   "source": [
    "# Ordenando pela coluna seminário.\n",
    "df.sort_values(by=\"Seminário\")"
   ]
  },
  {
   "cell_type": "code",
   "execution_count": 12,
   "metadata": {},
   "outputs": [
    {
     "data": {
      "text/plain": [
       "Aluno        Julia\n",
       "Faltas           1\n",
       "Prova           10\n",
       "Seminário      7.5\n",
       "Name: 3, dtype: object"
      ]
     },
     "execution_count": 12,
     "metadata": {},
     "output_type": "execute_result"
    }
   ],
   "source": [
    "# Acessando pelo indice.\n",
    "df.loc[3]"
   ]
  },
  {
   "cell_type": "code",
   "execution_count": 13,
   "metadata": {},
   "outputs": [
    {
     "data": {
      "text/html": [
       "<div>\n",
       "<style scoped>\n",
       "    .dataframe tbody tr th:only-of-type {\n",
       "        vertical-align: middle;\n",
       "    }\n",
       "\n",
       "    .dataframe tbody tr th {\n",
       "        vertical-align: top;\n",
       "    }\n",
       "\n",
       "    .dataframe thead th {\n",
       "        text-align: right;\n",
       "    }\n",
       "</style>\n",
       "<table border=\"1\" class=\"dataframe\">\n",
       "  <thead>\n",
       "    <tr style=\"text-align: right;\">\n",
       "      <th></th>\n",
       "      <th>Aluno</th>\n",
       "      <th>Faltas</th>\n",
       "      <th>Prova</th>\n",
       "      <th>Seminário</th>\n",
       "    </tr>\n",
       "  </thead>\n",
       "  <tbody>\n",
       "    <tr>\n",
       "      <th>0</th>\n",
       "      <td>Wilfred</td>\n",
       "      <td>3</td>\n",
       "      <td>2</td>\n",
       "      <td>8.5</td>\n",
       "    </tr>\n",
       "    <tr>\n",
       "      <th>2</th>\n",
       "      <td>Harry</td>\n",
       "      <td>2</td>\n",
       "      <td>5</td>\n",
       "      <td>9.0</td>\n",
       "    </tr>\n",
       "  </tbody>\n",
       "</table>\n",
       "</div>"
      ],
      "text/plain": [
       "     Aluno  Faltas  Prova  Seminário\n",
       "0  Wilfred       3      2        8.5\n",
       "2    Harry       2      5        9.0"
      ]
     },
     "execution_count": 13,
     "metadata": {},
     "output_type": "execute_result"
    }
   ],
   "source": [
    "# Alunos com seminário > 8.0\n",
    "df[df[\"Seminário\"] > 8.0]"
   ]
  },
  {
   "cell_type": "code",
   "execution_count": 14,
   "metadata": {},
   "outputs": [
    {
     "data": {
      "text/html": [
       "<div>\n",
       "<style scoped>\n",
       "    .dataframe tbody tr th:only-of-type {\n",
       "        vertical-align: middle;\n",
       "    }\n",
       "\n",
       "    .dataframe tbody tr th {\n",
       "        vertical-align: top;\n",
       "    }\n",
       "\n",
       "    .dataframe thead th {\n",
       "        text-align: right;\n",
       "    }\n",
       "</style>\n",
       "<table border=\"1\" class=\"dataframe\">\n",
       "  <thead>\n",
       "    <tr style=\"text-align: right;\">\n",
       "      <th></th>\n",
       "      <th>Aluno</th>\n",
       "      <th>Faltas</th>\n",
       "      <th>Prova</th>\n",
       "      <th>Seminário</th>\n",
       "    </tr>\n",
       "  </thead>\n",
       "  <tbody>\n",
       "    <tr>\n",
       "      <th>2</th>\n",
       "      <td>Harry</td>\n",
       "      <td>2</td>\n",
       "      <td>5</td>\n",
       "      <td>9.0</td>\n",
       "    </tr>\n",
       "  </tbody>\n",
       "</table>\n",
       "</div>"
      ],
      "text/plain": [
       "   Aluno  Faltas  Prova  Seminário\n",
       "2  Harry       2      5        9.0"
      ]
     },
     "execution_count": 14,
     "metadata": {},
     "output_type": "execute_result"
    }
   ],
   "source": [
    "# Usando o and condicional.\n",
    "df[(df[\"Seminário\"] > 8.0) & (df[\"Prova\"] > 3)]"
   ]
  },
  {
   "cell_type": "markdown",
   "metadata": {},
   "source": [
    "### Lendo Arquivo"
   ]
  },
  {
   "cell_type": "code",
   "execution_count": 15,
   "metadata": {},
   "outputs": [],
   "source": [
    "df = pd.read_csv(\"dados.csv\")"
   ]
  },
  {
   "cell_type": "code",
   "execution_count": 16,
   "metadata": {},
   "outputs": [
    {
     "data": {
      "text/html": [
       "<div>\n",
       "<style scoped>\n",
       "    .dataframe tbody tr th:only-of-type {\n",
       "        vertical-align: middle;\n",
       "    }\n",
       "\n",
       "    .dataframe tbody tr th {\n",
       "        vertical-align: top;\n",
       "    }\n",
       "\n",
       "    .dataframe thead th {\n",
       "        text-align: right;\n",
       "    }\n",
       "</style>\n",
       "<table border=\"1\" class=\"dataframe\">\n",
       "  <thead>\n",
       "    <tr style=\"text-align: right;\">\n",
       "      <th></th>\n",
       "      <th>condominio</th>\n",
       "      <th>quartos</th>\n",
       "      <th>suites</th>\n",
       "      <th>vagas</th>\n",
       "      <th>area</th>\n",
       "      <th>bairro</th>\n",
       "      <th>preco</th>\n",
       "      <th>pm2</th>\n",
       "    </tr>\n",
       "  </thead>\n",
       "  <tbody>\n",
       "    <tr>\n",
       "      <th>0</th>\n",
       "      <td>350</td>\n",
       "      <td>1</td>\n",
       "      <td>0.0</td>\n",
       "      <td>1.0</td>\n",
       "      <td>21</td>\n",
       "      <td>Botafogo</td>\n",
       "      <td>340000</td>\n",
       "      <td>16190.48</td>\n",
       "    </tr>\n",
       "    <tr>\n",
       "      <th>1</th>\n",
       "      <td>800</td>\n",
       "      <td>1</td>\n",
       "      <td>0.0</td>\n",
       "      <td>1.0</td>\n",
       "      <td>64</td>\n",
       "      <td>Botafogo</td>\n",
       "      <td>770000</td>\n",
       "      <td>12031.25</td>\n",
       "    </tr>\n",
       "    <tr>\n",
       "      <th>2</th>\n",
       "      <td>674</td>\n",
       "      <td>1</td>\n",
       "      <td>0.0</td>\n",
       "      <td>1.0</td>\n",
       "      <td>61</td>\n",
       "      <td>Botafogo</td>\n",
       "      <td>600000</td>\n",
       "      <td>9836.07</td>\n",
       "    </tr>\n",
       "    <tr>\n",
       "      <th>3</th>\n",
       "      <td>700</td>\n",
       "      <td>1</td>\n",
       "      <td>1.0</td>\n",
       "      <td>1.0</td>\n",
       "      <td>70</td>\n",
       "      <td>Botafogo</td>\n",
       "      <td>700000</td>\n",
       "      <td>10000.00</td>\n",
       "    </tr>\n",
       "    <tr>\n",
       "      <th>4</th>\n",
       "      <td>440</td>\n",
       "      <td>1</td>\n",
       "      <td>0.0</td>\n",
       "      <td>1.0</td>\n",
       "      <td>44</td>\n",
       "      <td>Botafogo</td>\n",
       "      <td>515000</td>\n",
       "      <td>11704.55</td>\n",
       "    </tr>\n",
       "  </tbody>\n",
       "</table>\n",
       "</div>"
      ],
      "text/plain": [
       "   condominio  quartos  suites  vagas  area    bairro   preco       pm2\n",
       "0         350        1     0.0    1.0    21  Botafogo  340000  16190.48\n",
       "1         800        1     0.0    1.0    64  Botafogo  770000  12031.25\n",
       "2         674        1     0.0    1.0    61  Botafogo  600000   9836.07\n",
       "3         700        1     1.0    1.0    70  Botafogo  700000  10000.00\n",
       "4         440        1     0.0    1.0    44  Botafogo  515000  11704.55"
      ]
     },
     "execution_count": 16,
     "metadata": {},
     "output_type": "execute_result"
    }
   ],
   "source": [
    "# Mostras as primeiras linhas.\n",
    "df.head() # Podemos usar um limite: head(n=10)."
   ]
  },
  {
   "cell_type": "code",
   "execution_count": 17,
   "metadata": {},
   "outputs": [
    {
     "data": {
      "text/html": [
       "<div>\n",
       "<style scoped>\n",
       "    .dataframe tbody tr th:only-of-type {\n",
       "        vertical-align: middle;\n",
       "    }\n",
       "\n",
       "    .dataframe tbody tr th {\n",
       "        vertical-align: top;\n",
       "    }\n",
       "\n",
       "    .dataframe thead th {\n",
       "        text-align: right;\n",
       "    }\n",
       "</style>\n",
       "<table border=\"1\" class=\"dataframe\">\n",
       "  <thead>\n",
       "    <tr style=\"text-align: right;\">\n",
       "      <th></th>\n",
       "      <th>condominio</th>\n",
       "      <th>quartos</th>\n",
       "      <th>suites</th>\n",
       "      <th>vagas</th>\n",
       "      <th>area</th>\n",
       "      <th>bairro</th>\n",
       "      <th>preco</th>\n",
       "      <th>pm2</th>\n",
       "    </tr>\n",
       "  </thead>\n",
       "  <tbody>\n",
       "    <tr>\n",
       "      <th>1992</th>\n",
       "      <td>1080</td>\n",
       "      <td>3</td>\n",
       "      <td>1.0</td>\n",
       "      <td>1.0</td>\n",
       "      <td>80</td>\n",
       "      <td>Tijuca</td>\n",
       "      <td>680000</td>\n",
       "      <td>8500.00</td>\n",
       "    </tr>\n",
       "    <tr>\n",
       "      <th>1993</th>\n",
       "      <td>750</td>\n",
       "      <td>3</td>\n",
       "      <td>0.0</td>\n",
       "      <td>1.0</td>\n",
       "      <td>82</td>\n",
       "      <td>Tijuca</td>\n",
       "      <td>650000</td>\n",
       "      <td>7926.83</td>\n",
       "    </tr>\n",
       "    <tr>\n",
       "      <th>1994</th>\n",
       "      <td>700</td>\n",
       "      <td>3</td>\n",
       "      <td>1.0</td>\n",
       "      <td>1.0</td>\n",
       "      <td>100</td>\n",
       "      <td>Tijuca</td>\n",
       "      <td>629900</td>\n",
       "      <td>6299.00</td>\n",
       "    </tr>\n",
       "    <tr>\n",
       "      <th>1995</th>\n",
       "      <td>1850</td>\n",
       "      <td>3</td>\n",
       "      <td>1.0</td>\n",
       "      <td>2.0</td>\n",
       "      <td>166</td>\n",
       "      <td>Tijuca</td>\n",
       "      <td>1600000</td>\n",
       "      <td>9638.55</td>\n",
       "    </tr>\n",
       "    <tr>\n",
       "      <th>1996</th>\n",
       "      <td>800</td>\n",
       "      <td>3</td>\n",
       "      <td>1.0</td>\n",
       "      <td>1.0</td>\n",
       "      <td>107</td>\n",
       "      <td>Tijuca</td>\n",
       "      <td>540000</td>\n",
       "      <td>5046.73</td>\n",
       "    </tr>\n",
       "  </tbody>\n",
       "</table>\n",
       "</div>"
      ],
      "text/plain": [
       "      condominio  quartos  suites  vagas  area  bairro    preco      pm2\n",
       "1992        1080        3     1.0    1.0    80  Tijuca   680000  8500.00\n",
       "1993         750        3     0.0    1.0    82  Tijuca   650000  7926.83\n",
       "1994         700        3     1.0    1.0   100  Tijuca   629900  6299.00\n",
       "1995        1850        3     1.0    2.0   166  Tijuca  1600000  9638.55\n",
       "1996         800        3     1.0    1.0   107  Tijuca   540000  5046.73"
      ]
     },
     "execution_count": 17,
     "metadata": {},
     "output_type": "execute_result"
    }
   ],
   "source": [
    "# Mostra as últimas linhas.\n",
    "df.tail() # Podemos usar um limite: tail(n=10)."
   ]
  },
  {
   "cell_type": "code",
   "execution_count": 18,
   "metadata": {},
   "outputs": [
    {
     "data": {
      "text/plain": [
       "array(['Botafogo', 'Copacabana', 'Gávea', 'Grajaú', 'Ipanema', 'Leblon',\n",
       "       'Tijuca'], dtype=object)"
      ]
     },
     "execution_count": 18,
     "metadata": {},
     "output_type": "execute_result"
    }
   ],
   "source": [
    "df[\"bairro\"].unique()"
   ]
  },
  {
   "cell_type": "code",
   "execution_count": 19,
   "metadata": {},
   "outputs": [
    {
     "data": {
      "text/plain": [
       "Copacabana    346\n",
       "Tijuca        341\n",
       "Botafogo      307\n",
       "Ipanema       281\n",
       "Leblon        280\n",
       "Grajaú        237\n",
       "Gávea         205\n",
       "Name: bairro, dtype: int64"
      ]
     },
     "execution_count": 19,
     "metadata": {},
     "output_type": "execute_result"
    }
   ],
   "source": [
    "df[\"bairro\"].value_counts() # Contando os apartamentos por bairro."
   ]
  },
  {
   "cell_type": "code",
   "execution_count": 20,
   "metadata": {},
   "outputs": [
    {
     "data": {
      "text/plain": [
       "Copacabana    0.173260\n",
       "Tijuca        0.170756\n",
       "Botafogo      0.153731\n",
       "Ipanema       0.140711\n",
       "Leblon        0.140210\n",
       "Grajaú        0.118678\n",
       "Gávea         0.102654\n",
       "Name: bairro, dtype: float64"
      ]
     },
     "execution_count": 20,
     "metadata": {},
     "output_type": "execute_result"
    }
   ],
   "source": [
    "df[\"bairro\"].value_counts(normalize=True) # Contados os apartamentos e transfomando em porcentagem."
   ]
  },
  {
   "cell_type": "code",
   "execution_count": 21,
   "metadata": {},
   "outputs": [
    {
     "data": {
      "text/html": [
       "<div>\n",
       "<style scoped>\n",
       "    .dataframe tbody tr th:only-of-type {\n",
       "        vertical-align: middle;\n",
       "    }\n",
       "\n",
       "    .dataframe tbody tr th {\n",
       "        vertical-align: top;\n",
       "    }\n",
       "\n",
       "    .dataframe thead th {\n",
       "        text-align: right;\n",
       "    }\n",
       "</style>\n",
       "<table border=\"1\" class=\"dataframe\">\n",
       "  <thead>\n",
       "    <tr style=\"text-align: right;\">\n",
       "      <th></th>\n",
       "      <th>condominio</th>\n",
       "      <th>quartos</th>\n",
       "      <th>suites</th>\n",
       "      <th>vagas</th>\n",
       "      <th>area</th>\n",
       "      <th>preco</th>\n",
       "      <th>pm2</th>\n",
       "    </tr>\n",
       "    <tr>\n",
       "      <th>bairro</th>\n",
       "      <th></th>\n",
       "      <th></th>\n",
       "      <th></th>\n",
       "      <th></th>\n",
       "      <th></th>\n",
       "      <th></th>\n",
       "      <th></th>\n",
       "    </tr>\n",
       "  </thead>\n",
       "  <tbody>\n",
       "    <tr>\n",
       "      <th>Botafogo</th>\n",
       "      <td>914.475570</td>\n",
       "      <td>2.107492</td>\n",
       "      <td>1.048860</td>\n",
       "      <td>1.159609</td>\n",
       "      <td>83.837134</td>\n",
       "      <td>1.010614e+06</td>\n",
       "      <td>12034.486189</td>\n",
       "    </tr>\n",
       "    <tr>\n",
       "      <th>Copacabana</th>\n",
       "      <td>991.861272</td>\n",
       "      <td>2.101156</td>\n",
       "      <td>1.034682</td>\n",
       "      <td>1.080925</td>\n",
       "      <td>101.855491</td>\n",
       "      <td>1.216344e+06</td>\n",
       "      <td>11965.298699</td>\n",
       "    </tr>\n",
       "    <tr>\n",
       "      <th>Grajaú</th>\n",
       "      <td>619.940928</td>\n",
       "      <td>2.097046</td>\n",
       "      <td>0.970464</td>\n",
       "      <td>1.130802</td>\n",
       "      <td>79.949367</td>\n",
       "      <td>4.788869e+05</td>\n",
       "      <td>6145.624473</td>\n",
       "    </tr>\n",
       "    <tr>\n",
       "      <th>Gávea</th>\n",
       "      <td>985.234146</td>\n",
       "      <td>2.058537</td>\n",
       "      <td>1.029268</td>\n",
       "      <td>1.200000</td>\n",
       "      <td>88.497561</td>\n",
       "      <td>1.454571e+06</td>\n",
       "      <td>16511.582780</td>\n",
       "    </tr>\n",
       "    <tr>\n",
       "      <th>Ipanema</th>\n",
       "      <td>1357.120996</td>\n",
       "      <td>2.181495</td>\n",
       "      <td>1.192171</td>\n",
       "      <td>1.220641</td>\n",
       "      <td>100.615658</td>\n",
       "      <td>2.033096e+06</td>\n",
       "      <td>19738.407794</td>\n",
       "    </tr>\n",
       "    <tr>\n",
       "      <th>Leblon</th>\n",
       "      <td>1260.010714</td>\n",
       "      <td>2.207143</td>\n",
       "      <td>1.064286</td>\n",
       "      <td>1.164286</td>\n",
       "      <td>91.832143</td>\n",
       "      <td>1.946193e+06</td>\n",
       "      <td>20761.351036</td>\n",
       "    </tr>\n",
       "    <tr>\n",
       "      <th>Tijuca</th>\n",
       "      <td>681.175953</td>\n",
       "      <td>2.131965</td>\n",
       "      <td>0.944282</td>\n",
       "      <td>1.143695</td>\n",
       "      <td>81.457478</td>\n",
       "      <td>5.750780e+05</td>\n",
       "      <td>7149.804985</td>\n",
       "    </tr>\n",
       "  </tbody>\n",
       "</table>\n",
       "</div>"
      ],
      "text/plain": [
       "             condominio   quartos    suites     vagas        area  \\\n",
       "bairro                                                              \n",
       "Botafogo     914.475570  2.107492  1.048860  1.159609   83.837134   \n",
       "Copacabana   991.861272  2.101156  1.034682  1.080925  101.855491   \n",
       "Grajaú       619.940928  2.097046  0.970464  1.130802   79.949367   \n",
       "Gávea        985.234146  2.058537  1.029268  1.200000   88.497561   \n",
       "Ipanema     1357.120996  2.181495  1.192171  1.220641  100.615658   \n",
       "Leblon      1260.010714  2.207143  1.064286  1.164286   91.832143   \n",
       "Tijuca       681.175953  2.131965  0.944282  1.143695   81.457478   \n",
       "\n",
       "                   preco           pm2  \n",
       "bairro                                  \n",
       "Botafogo    1.010614e+06  12034.486189  \n",
       "Copacabana  1.216344e+06  11965.298699  \n",
       "Grajaú      4.788869e+05   6145.624473  \n",
       "Gávea       1.454571e+06  16511.582780  \n",
       "Ipanema     2.033096e+06  19738.407794  \n",
       "Leblon      1.946193e+06  20761.351036  \n",
       "Tijuca      5.750780e+05   7149.804985  "
      ]
     },
     "execution_count": 21,
     "metadata": {},
     "output_type": "execute_result"
    }
   ],
   "source": [
    "df.groupby(\"bairro\").mean()"
   ]
  },
  {
   "cell_type": "code",
   "execution_count": 22,
   "metadata": {},
   "outputs": [
    {
     "data": {
      "text/plain": [
       "bairro\n",
       "Grajaú         6145.624473\n",
       "Tijuca         7149.804985\n",
       "Copacabana    11965.298699\n",
       "Botafogo      12034.486189\n",
       "Gávea         16511.582780\n",
       "Ipanema       19738.407794\n",
       "Leblon        20761.351036\n",
       "Name: pm2, dtype: float64"
      ]
     },
     "execution_count": 22,
     "metadata": {},
     "output_type": "execute_result"
    }
   ],
   "source": [
    "df.groupby(\"bairro\").mean()[\"pm2\"].sort_values()"
   ]
  },
  {
   "cell_type": "code",
   "execution_count": 23,
   "metadata": {},
   "outputs": [
    {
     "data": {
      "text/plain": [
       "0    Bot\n",
       "1    Bot\n",
       "2    Bot\n",
       "3    Bot\n",
       "4    Bot\n",
       "Name: bairro, dtype: object"
      ]
     },
     "execution_count": 23,
     "metadata": {},
     "output_type": "execute_result"
    }
   ],
   "source": [
    "def truncar(bairro):\n",
    "    return bairro[:3]\n",
    "\n",
    "df[\"bairro\"].apply(truncar).head()"
   ]
  },
  {
   "cell_type": "code",
   "execution_count": 24,
   "metadata": {},
   "outputs": [
    {
     "data": {
      "text/plain": [
       "0    Bot\n",
       "1    Bot\n",
       "2    Bot\n",
       "3    Bot\n",
       "4    Bot\n",
       "Name: bairro, dtype: object"
      ]
     },
     "execution_count": 24,
     "metadata": {},
     "output_type": "execute_result"
    }
   ],
   "source": [
    "# Usando função lambda.\n",
    "df[\"bairro\"].apply(lambda x: x[:3]).head()"
   ]
  },
  {
   "cell_type": "markdown",
   "metadata": {},
   "source": [
    "#### Lidando com dados incompletos."
   ]
  },
  {
   "cell_type": "code",
   "execution_count": 25,
   "metadata": {},
   "outputs": [
    {
     "data": {
      "text/html": [
       "<div>\n",
       "<style scoped>\n",
       "    .dataframe tbody tr th:only-of-type {\n",
       "        vertical-align: middle;\n",
       "    }\n",
       "\n",
       "    .dataframe tbody tr th {\n",
       "        vertical-align: top;\n",
       "    }\n",
       "\n",
       "    .dataframe thead th {\n",
       "        text-align: right;\n",
       "    }\n",
       "</style>\n",
       "<table border=\"1\" class=\"dataframe\">\n",
       "  <thead>\n",
       "    <tr style=\"text-align: right;\">\n",
       "      <th></th>\n",
       "      <th>condominio</th>\n",
       "      <th>quartos</th>\n",
       "      <th>suites</th>\n",
       "      <th>vagas</th>\n",
       "      <th>area</th>\n",
       "      <th>bairro</th>\n",
       "      <th>preco</th>\n",
       "      <th>pm2</th>\n",
       "    </tr>\n",
       "  </thead>\n",
       "  <tbody>\n",
       "    <tr>\n",
       "      <th>0</th>\n",
       "      <td>350</td>\n",
       "      <td>1</td>\n",
       "      <td>0.0</td>\n",
       "      <td>1.0</td>\n",
       "      <td>21</td>\n",
       "      <td>Botafogo</td>\n",
       "      <td>340000</td>\n",
       "      <td>16190.48</td>\n",
       "    </tr>\n",
       "    <tr>\n",
       "      <th>1</th>\n",
       "      <td>800</td>\n",
       "      <td>1</td>\n",
       "      <td>0.0</td>\n",
       "      <td>1.0</td>\n",
       "      <td>64</td>\n",
       "      <td>Botafogo</td>\n",
       "      <td>770000</td>\n",
       "      <td>NaN</td>\n",
       "    </tr>\n",
       "    <tr>\n",
       "      <th>2</th>\n",
       "      <td>674</td>\n",
       "      <td>1</td>\n",
       "      <td>0.0</td>\n",
       "      <td>1.0</td>\n",
       "      <td>61</td>\n",
       "      <td>Botafogo</td>\n",
       "      <td>600000</td>\n",
       "      <td>9836.07</td>\n",
       "    </tr>\n",
       "    <tr>\n",
       "      <th>3</th>\n",
       "      <td>700</td>\n",
       "      <td>1</td>\n",
       "      <td>1.0</td>\n",
       "      <td>1.0</td>\n",
       "      <td>70</td>\n",
       "      <td>Botafogo</td>\n",
       "      <td>700000</td>\n",
       "      <td>10000.00</td>\n",
       "    </tr>\n",
       "    <tr>\n",
       "      <th>4</th>\n",
       "      <td>440</td>\n",
       "      <td>1</td>\n",
       "      <td>0.0</td>\n",
       "      <td>1.0</td>\n",
       "      <td>44</td>\n",
       "      <td>Botafogo</td>\n",
       "      <td>515000</td>\n",
       "      <td>11704.55</td>\n",
       "    </tr>\n",
       "  </tbody>\n",
       "</table>\n",
       "</div>"
      ],
      "text/plain": [
       "   condominio  quartos  suites  vagas  area    bairro   preco       pm2\n",
       "0         350        1     0.0    1.0    21  Botafogo  340000  16190.48\n",
       "1         800        1     0.0    1.0    64  Botafogo  770000       NaN\n",
       "2         674        1     0.0    1.0    61  Botafogo  600000   9836.07\n",
       "3         700        1     1.0    1.0    70  Botafogo  700000  10000.00\n",
       "4         440        1     0.0    1.0    44  Botafogo  515000  11704.55"
      ]
     },
     "execution_count": 25,
     "metadata": {},
     "output_type": "execute_result"
    }
   ],
   "source": [
    "df2 = df.head()\n",
    "df2 = df2.replace({\"pm2\": {12031.25: np.nan}})\n",
    "df2"
   ]
  },
  {
   "cell_type": "code",
   "execution_count": 26,
   "metadata": {},
   "outputs": [
    {
     "data": {
      "text/html": [
       "<div>\n",
       "<style scoped>\n",
       "    .dataframe tbody tr th:only-of-type {\n",
       "        vertical-align: middle;\n",
       "    }\n",
       "\n",
       "    .dataframe tbody tr th {\n",
       "        vertical-align: top;\n",
       "    }\n",
       "\n",
       "    .dataframe thead th {\n",
       "        text-align: right;\n",
       "    }\n",
       "</style>\n",
       "<table border=\"1\" class=\"dataframe\">\n",
       "  <thead>\n",
       "    <tr style=\"text-align: right;\">\n",
       "      <th></th>\n",
       "      <th>condominio</th>\n",
       "      <th>quartos</th>\n",
       "      <th>suites</th>\n",
       "      <th>vagas</th>\n",
       "      <th>area</th>\n",
       "      <th>bairro</th>\n",
       "      <th>preco</th>\n",
       "      <th>pm2</th>\n",
       "    </tr>\n",
       "  </thead>\n",
       "  <tbody>\n",
       "    <tr>\n",
       "      <th>0</th>\n",
       "      <td>350</td>\n",
       "      <td>1</td>\n",
       "      <td>0.0</td>\n",
       "      <td>1.0</td>\n",
       "      <td>21</td>\n",
       "      <td>Botafogo</td>\n",
       "      <td>340000</td>\n",
       "      <td>16190.48</td>\n",
       "    </tr>\n",
       "    <tr>\n",
       "      <th>2</th>\n",
       "      <td>674</td>\n",
       "      <td>1</td>\n",
       "      <td>0.0</td>\n",
       "      <td>1.0</td>\n",
       "      <td>61</td>\n",
       "      <td>Botafogo</td>\n",
       "      <td>600000</td>\n",
       "      <td>9836.07</td>\n",
       "    </tr>\n",
       "    <tr>\n",
       "      <th>3</th>\n",
       "      <td>700</td>\n",
       "      <td>1</td>\n",
       "      <td>1.0</td>\n",
       "      <td>1.0</td>\n",
       "      <td>70</td>\n",
       "      <td>Botafogo</td>\n",
       "      <td>700000</td>\n",
       "      <td>10000.00</td>\n",
       "    </tr>\n",
       "    <tr>\n",
       "      <th>4</th>\n",
       "      <td>440</td>\n",
       "      <td>1</td>\n",
       "      <td>0.0</td>\n",
       "      <td>1.0</td>\n",
       "      <td>44</td>\n",
       "      <td>Botafogo</td>\n",
       "      <td>515000</td>\n",
       "      <td>11704.55</td>\n",
       "    </tr>\n",
       "  </tbody>\n",
       "</table>\n",
       "</div>"
      ],
      "text/plain": [
       "   condominio  quartos  suites  vagas  area    bairro   preco       pm2\n",
       "0         350        1     0.0    1.0    21  Botafogo  340000  16190.48\n",
       "2         674        1     0.0    1.0    61  Botafogo  600000   9836.07\n",
       "3         700        1     1.0    1.0    70  Botafogo  700000  10000.00\n",
       "4         440        1     0.0    1.0    44  Botafogo  515000  11704.55"
      ]
     },
     "execution_count": 26,
     "metadata": {},
     "output_type": "execute_result"
    }
   ],
   "source": [
    "# Remove os NaN\n",
    "df2.dropna()"
   ]
  },
  {
   "cell_type": "code",
   "execution_count": 27,
   "metadata": {},
   "outputs": [
    {
     "data": {
      "text/html": [
       "<div>\n",
       "<style scoped>\n",
       "    .dataframe tbody tr th:only-of-type {\n",
       "        vertical-align: middle;\n",
       "    }\n",
       "\n",
       "    .dataframe tbody tr th {\n",
       "        vertical-align: top;\n",
       "    }\n",
       "\n",
       "    .dataframe thead th {\n",
       "        text-align: right;\n",
       "    }\n",
       "</style>\n",
       "<table border=\"1\" class=\"dataframe\">\n",
       "  <thead>\n",
       "    <tr style=\"text-align: right;\">\n",
       "      <th></th>\n",
       "      <th>condominio</th>\n",
       "      <th>quartos</th>\n",
       "      <th>suites</th>\n",
       "      <th>vagas</th>\n",
       "      <th>area</th>\n",
       "      <th>bairro</th>\n",
       "      <th>preco</th>\n",
       "      <th>pm2</th>\n",
       "    </tr>\n",
       "  </thead>\n",
       "  <tbody>\n",
       "    <tr>\n",
       "      <th>0</th>\n",
       "      <td>350</td>\n",
       "      <td>1</td>\n",
       "      <td>0.0</td>\n",
       "      <td>1.0</td>\n",
       "      <td>21</td>\n",
       "      <td>Botafogo</td>\n",
       "      <td>340000</td>\n",
       "      <td>16190.48</td>\n",
       "    </tr>\n",
       "    <tr>\n",
       "      <th>1</th>\n",
       "      <td>800</td>\n",
       "      <td>1</td>\n",
       "      <td>0.0</td>\n",
       "      <td>1.0</td>\n",
       "      <td>64</td>\n",
       "      <td>Botafogo</td>\n",
       "      <td>770000</td>\n",
       "      <td>99.00</td>\n",
       "    </tr>\n",
       "    <tr>\n",
       "      <th>2</th>\n",
       "      <td>674</td>\n",
       "      <td>1</td>\n",
       "      <td>0.0</td>\n",
       "      <td>1.0</td>\n",
       "      <td>61</td>\n",
       "      <td>Botafogo</td>\n",
       "      <td>600000</td>\n",
       "      <td>9836.07</td>\n",
       "    </tr>\n",
       "    <tr>\n",
       "      <th>3</th>\n",
       "      <td>700</td>\n",
       "      <td>1</td>\n",
       "      <td>1.0</td>\n",
       "      <td>1.0</td>\n",
       "      <td>70</td>\n",
       "      <td>Botafogo</td>\n",
       "      <td>700000</td>\n",
       "      <td>10000.00</td>\n",
       "    </tr>\n",
       "    <tr>\n",
       "      <th>4</th>\n",
       "      <td>440</td>\n",
       "      <td>1</td>\n",
       "      <td>0.0</td>\n",
       "      <td>1.0</td>\n",
       "      <td>44</td>\n",
       "      <td>Botafogo</td>\n",
       "      <td>515000</td>\n",
       "      <td>11704.55</td>\n",
       "    </tr>\n",
       "  </tbody>\n",
       "</table>\n",
       "</div>"
      ],
      "text/plain": [
       "   condominio  quartos  suites  vagas  area    bairro   preco       pm2\n",
       "0         350        1     0.0    1.0    21  Botafogo  340000  16190.48\n",
       "1         800        1     0.0    1.0    64  Botafogo  770000     99.00\n",
       "2         674        1     0.0    1.0    61  Botafogo  600000   9836.07\n",
       "3         700        1     1.0    1.0    70  Botafogo  700000  10000.00\n",
       "4         440        1     0.0    1.0    44  Botafogo  515000  11704.55"
      ]
     },
     "execution_count": 27,
     "metadata": {},
     "output_type": "execute_result"
    }
   ],
   "source": [
    "df2.fillna(99)"
   ]
  },
  {
   "cell_type": "code",
   "execution_count": 28,
   "metadata": {},
   "outputs": [
    {
     "data": {
      "text/html": [
       "<div>\n",
       "<style scoped>\n",
       "    .dataframe tbody tr th:only-of-type {\n",
       "        vertical-align: middle;\n",
       "    }\n",
       "\n",
       "    .dataframe tbody tr th {\n",
       "        vertical-align: top;\n",
       "    }\n",
       "\n",
       "    .dataframe thead th {\n",
       "        text-align: right;\n",
       "    }\n",
       "</style>\n",
       "<table border=\"1\" class=\"dataframe\">\n",
       "  <thead>\n",
       "    <tr style=\"text-align: right;\">\n",
       "      <th></th>\n",
       "      <th>condominio</th>\n",
       "      <th>quartos</th>\n",
       "      <th>suites</th>\n",
       "      <th>vagas</th>\n",
       "      <th>area</th>\n",
       "      <th>bairro</th>\n",
       "      <th>preco</th>\n",
       "      <th>pm2</th>\n",
       "    </tr>\n",
       "  </thead>\n",
       "  <tbody>\n",
       "    <tr>\n",
       "      <th>0</th>\n",
       "      <td>False</td>\n",
       "      <td>False</td>\n",
       "      <td>False</td>\n",
       "      <td>False</td>\n",
       "      <td>False</td>\n",
       "      <td>False</td>\n",
       "      <td>False</td>\n",
       "      <td>False</td>\n",
       "    </tr>\n",
       "    <tr>\n",
       "      <th>1</th>\n",
       "      <td>False</td>\n",
       "      <td>False</td>\n",
       "      <td>False</td>\n",
       "      <td>False</td>\n",
       "      <td>False</td>\n",
       "      <td>False</td>\n",
       "      <td>False</td>\n",
       "      <td>True</td>\n",
       "    </tr>\n",
       "    <tr>\n",
       "      <th>2</th>\n",
       "      <td>False</td>\n",
       "      <td>False</td>\n",
       "      <td>False</td>\n",
       "      <td>False</td>\n",
       "      <td>False</td>\n",
       "      <td>False</td>\n",
       "      <td>False</td>\n",
       "      <td>False</td>\n",
       "    </tr>\n",
       "    <tr>\n",
       "      <th>3</th>\n",
       "      <td>False</td>\n",
       "      <td>False</td>\n",
       "      <td>False</td>\n",
       "      <td>False</td>\n",
       "      <td>False</td>\n",
       "      <td>False</td>\n",
       "      <td>False</td>\n",
       "      <td>False</td>\n",
       "    </tr>\n",
       "    <tr>\n",
       "      <th>4</th>\n",
       "      <td>False</td>\n",
       "      <td>False</td>\n",
       "      <td>False</td>\n",
       "      <td>False</td>\n",
       "      <td>False</td>\n",
       "      <td>False</td>\n",
       "      <td>False</td>\n",
       "      <td>False</td>\n",
       "    </tr>\n",
       "  </tbody>\n",
       "</table>\n",
       "</div>"
      ],
      "text/plain": [
       "   condominio  quartos  suites  vagas   area  bairro  preco    pm2\n",
       "0       False    False   False  False  False   False  False  False\n",
       "1       False    False   False  False  False   False  False   True\n",
       "2       False    False   False  False  False   False  False  False\n",
       "3       False    False   False  False  False   False  False  False\n",
       "4       False    False   False  False  False   False  False  False"
      ]
     },
     "execution_count": 28,
     "metadata": {},
     "output_type": "execute_result"
    }
   ],
   "source": [
    "df2.isna()"
   ]
  },
  {
   "cell_type": "markdown",
   "metadata": {},
   "source": [
    "### Visualização de Dados"
   ]
  },
  {
   "cell_type": "code",
   "execution_count": 29,
   "metadata": {},
   "outputs": [
    {
     "data": {
      "image/png": "[encoded data removed]",
      "text/plain": [
       "<Figure size 432x288 with 1 Axes>"
      ]
     },
     "metadata": {
      "needs_background": "light"
     },
     "output_type": "display_data"
    }
   ],
   "source": [
    "df[\"preco\"].plot.hist(bins=30, edgecolor='black');"
   ]
  },
  {
   "cell_type": "code",
   "execution_count": 46,
   "metadata": {},
   "outputs": [
    {
     "data": {
      "image/png": "[encoded data removed]",
      "text/plain": [
       "<Figure size 504x432 with 1 Axes>"
      ]
     },
     "metadata": {
      "needs_background": "light"
     },
     "output_type": "display_data"
    }
   ],
   "source": [
    "fig, ax = plt.subplots(figsize=(7,6))\n",
    "\n",
    "bairo = df[\"bairro\"].value_counts().plot.bar();\n",
    "\n",
    "for p in bairo.patches:\n",
    "    t = ax.annotate(str(p.get_height())+'%', (p.get_x(), p.get_height()+5))\n",
    "    t.set(color='black', size=10)\n",
    "    t.set_bbox(dict(facecolor='white', boxstyle='circle', lw=1, edgecolor='red'))\n",
    "                    \n",
    "# fig\n",
    "# df[\"bairro\"].value_counts().plot.bar();\n",
    "\n"
   ]
  },
  {
   "cell_type": "code",
   "execution_count": 36,
   "metadata": {},
   "outputs": [
    {
     "data": {
      "image/png": "[encoded data removed]",
      "text/plain": [
       "<Figure size 432x288 with 1 Axes>"
      ]
     },
     "metadata": {
      "needs_background": "light"
     },
     "output_type": "display_data"
    }
   ],
   "source": [
    "# Plotando na Orizontal\n",
    "df[\"bairro\"].value_counts().plot.barh();"
   ]
  },
  {
   "cell_type": "code",
   "execution_count": 37,
   "metadata": {},
   "outputs": [
    {
     "data": {
      "image/png": "[encoded data removed]",
      "text/plain": [
       "<Figure size 432x288 with 1 Axes>"
      ]
     },
     "metadata": {
      "needs_background": "light"
     },
     "output_type": "display_data"
    }
   ],
   "source": [
    "# Colocando legenda\n",
    "df[\"bairro\"].value_counts().plot.barh(title=\"Número de apartamentos\");"
   ]
  },
  {
   "cell_type": "code",
   "execution_count": 50,
   "metadata": {},
   "outputs": [
    {
     "data": {
      "image/png": "[encoded data removed]",
      "text/plain": [
       "<Figure size 432x288 with 1 Axes>"
      ]
     },
     "metadata": {
      "needs_background": "light"
     },
     "output_type": "display_data"
    }
   ],
   "source": [
    "# Gráfico de dispersão.\n",
    "df.plot.scatter(x='preco', y='area');"
   ]
  },
  {
   "cell_type": "code",
   "execution_count": 52,
   "metadata": {},
   "outputs": [
    {
     "data": {
      "image/png": "[encoded data removed]",
      "text/plain": [
       "<Figure size 432x288 with 1 Axes>"
      ]
     },
     "metadata": {},
     "output_type": "display_data"
    }
   ],
   "source": [
    "df[\"quartos\"].value_counts().plot.pie();"
   ]
  },
  {
   "cell_type": "code",
   "execution_count": null,
   "metadata": {},
   "outputs": [],
   "source": []
  }
 ],
 "metadata": {
  "kernelspec": {
   "display_name": "Python 3",
   "language": "python",
   "name": "python3"
  },
  "language_info": {
   "codemirror_mode": {
    "name": "ipython",
    "version": 3
   },
   "file_extension": ".py",
   "mimetype": "text/x-python",
   "name": "python",
   "nbconvert_exporter": "python",
   "pygments_lexer": "ipython3",
   "version": "3.6.6"
  }
 },
 "nbformat": 4,
 "nbformat_minor": 2
}
